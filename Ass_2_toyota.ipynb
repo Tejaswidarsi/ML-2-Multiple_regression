{
  "cells": [
    {
      "cell_type": "markdown",
      "metadata": {
        "id": "view-in-github",
        "colab_type": "text"
      },
      "source": [
        "<a href=\"https://colab.research.google.com/github/Tejaswidarsi/ML-2-Multiple_regression/blob/main/Ass_2_toyota.ipynb\" target=\"_parent\"><img src=\"https://colab.research.google.com/assets/colab-badge.svg\" alt=\"Open In Colab\"/></a>"
      ]
    },
    {
      "cell_type": "markdown",
      "metadata": {
        "id": "8h9ij9zE2W4X"
      },
      "source": [
        "##Install kaggle"
      ]
    },
    {
      "cell_type": "code",
      "execution_count": 1,
      "metadata": {
        "colab": {
          "base_uri": "https://localhost:8080/"
        },
        "id": "rMRiyKal18Yi",
        "outputId": "66d2e697-7a8c-48b6-bf99-4c08ab1cfce5"
      },
      "outputs": [
        {
          "output_type": "stream",
          "name": "stdout",
          "text": [
            "Requirement already satisfied: kaggle in /usr/local/lib/python3.10/dist-packages (1.6.17)\n",
            "Requirement already satisfied: six>=1.10 in /usr/local/lib/python3.10/dist-packages (from kaggle) (1.16.0)\n",
            "Requirement already satisfied: certifi>=2023.7.22 in /usr/local/lib/python3.10/dist-packages (from kaggle) (2024.7.4)\n",
            "Requirement already satisfied: python-dateutil in /usr/local/lib/python3.10/dist-packages (from kaggle) (2.8.2)\n",
            "Requirement already satisfied: requests in /usr/local/lib/python3.10/dist-packages (from kaggle) (2.32.3)\n",
            "Requirement already satisfied: tqdm in /usr/local/lib/python3.10/dist-packages (from kaggle) (4.66.5)\n",
            "Requirement already satisfied: python-slugify in /usr/local/lib/python3.10/dist-packages (from kaggle) (8.0.4)\n",
            "Requirement already satisfied: urllib3 in /usr/local/lib/python3.10/dist-packages (from kaggle) (2.0.7)\n",
            "Requirement already satisfied: bleach in /usr/local/lib/python3.10/dist-packages (from kaggle) (6.1.0)\n",
            "Requirement already satisfied: webencodings in /usr/local/lib/python3.10/dist-packages (from bleach->kaggle) (0.5.1)\n",
            "Requirement already satisfied: text-unidecode>=1.3 in /usr/local/lib/python3.10/dist-packages (from python-slugify->kaggle) (1.3)\n",
            "Requirement already satisfied: charset-normalizer<4,>=2 in /usr/local/lib/python3.10/dist-packages (from requests->kaggle) (3.3.2)\n",
            "Requirement already satisfied: idna<4,>=2.5 in /usr/local/lib/python3.10/dist-packages (from requests->kaggle) (3.8)\n"
          ]
        }
      ],
      "source": [
        "pip install kaggle"
      ]
    },
    {
      "cell_type": "markdown",
      "metadata": {
        "id": "syYmFKao2oWy"
      },
      "source": [
        "\n",
        "## kaggle.json file\n",
        "\n",
        "These commands create a .kaggle directory in my home folder, copy the kaggle.json file into it, and set the file's permissions to be accessible only by me, ensuring secure access to my Kaggle API credentials."
      ]
    },
    {
      "cell_type": "code",
      "execution_count": 2,
      "metadata": {
        "colab": {
          "base_uri": "https://localhost:8080/"
        },
        "id": "LZ-BP8UD2wbt",
        "outputId": "cdd7484a-067f-441e-84a4-9473f0e78dbc"
      },
      "outputs": [
        {
          "output_type": "stream",
          "name": "stdout",
          "text": [
            "cp: cannot stat 'kaggle.json': No such file or directory\n",
            "chmod: cannot access '/root/.kaggle/kaggle.json': No such file or directory\n"
          ]
        }
      ],
      "source": [
        "!mkdir -p ~/.kaggle\n",
        "!cp kaggle.json ~/.kaggle/\n",
        "!chmod 600 ~/.kaggle/kaggle.json"
      ]
    },
    {
      "cell_type": "markdown",
      "metadata": {
        "id": "RjX8ZtSI250A"
      },
      "source": [
        "##Download API link of Dataset"
      ]
    },
    {
      "cell_type": "code",
      "execution_count": 3,
      "metadata": {
        "colab": {
          "base_uri": "https://localhost:8080/"
        },
        "id": "ydJjixbL3EPt",
        "outputId": "5302ba24-7ae5-48f1-fad8-5a1e5111372c"
      },
      "outputs": [
        {
          "output_type": "stream",
          "name": "stdout",
          "text": [
            "Dataset URL: https://www.kaggle.com/datasets/klkwak/toyotacorollacsv\n",
            "License(s): DbCL-1.0\n",
            "Downloading toyotacorollacsv.zip to /content\n",
            "  0% 0.00/28.8k [00:00<?, ?B/s]\n",
            "100% 28.8k/28.8k [00:00<00:00, 23.2MB/s]\n"
          ]
        }
      ],
      "source": [
        "!kaggle datasets download -d klkwak/toyotacorollacsv"
      ]
    },
    {
      "cell_type": "markdown",
      "metadata": {
        "id": "kk_M153K3VC1"
      },
      "source": [
        "##Import the zip file"
      ]
    },
    {
      "cell_type": "code",
      "execution_count": 4,
      "metadata": {
        "colab": {
          "base_uri": "https://localhost:8080/"
        },
        "id": "ICY2SPCy3YSc",
        "outputId": "9cd562d0-36b7-4aeb-e061-c354a469ee5c"
      },
      "outputs": [
        {
          "output_type": "stream",
          "name": "stdout",
          "text": [
            "done\n"
          ]
        }
      ],
      "source": [
        "from zipfile import ZipFile\n",
        "dataset = \"/content/toyotacorollacsv.zip\"\n",
        "\n",
        "with ZipFile(dataset, 'r') as zip:\n",
        "  zip.extractall()\n",
        "  print('done')"
      ]
    },
    {
      "cell_type": "markdown",
      "metadata": {
        "id": "1BH9cq2k3jYP"
      },
      "source": [
        "##Import libraries"
      ]
    },
    {
      "cell_type": "code",
      "execution_count": 5,
      "metadata": {
        "id": "3uMtveIn3vt-"
      },
      "outputs": [],
      "source": [
        "import pandas as pd\n",
        "import numpy as np\n",
        "from sklearn.model_selection import train_test_split\n",
        "from sklearn.preprocessing import MinMaxScaler\n",
        "from sklearn.linear_model import LinearRegression\n",
        "from sklearn.metrics import r2_score\n",
        "import matplotlib.pyplot as plt\n",
        "import seaborn as sns\n"
      ]
    },
    {
      "cell_type": "markdown",
      "metadata": {
        "id": "RLpK0X3a3x5I"
      },
      "source": [
        "##Initialization\n",
        " The code reads a CSV dataset and assigns it to the variable List. Then, it converts List into a DataFrame using pd.DataFrame(). In this DataFrame, x represents the set of independent variables (features), and y represents the dependent variable, which is the target variable ( price) that we want to predict."
      ]
    },
    {
      "cell_type": "code",
      "execution_count": 6,
      "metadata": {
        "colab": {
          "base_uri": "https://localhost:8080/"
        },
        "id": "qPTjZJaV30hn",
        "outputId": "938f87d5-27e3-4e4a-ffff-94e99d40a9c2"
      },
      "outputs": [
        {
          "output_type": "stream",
          "name": "stdout",
          "text": [
            "   Age_08_04     KM  HP    cc  Doors  Gears  Quarterly_Tax  Weight  Price\n",
            "0         23  46986  90  2000      3      5            210    1165  13500\n",
            "1         23  72937  90  2000      3      5            210    1165  13750\n",
            "2         24  41711  90  2000      3      5            210    1165  13950\n",
            "3         26  48000  90  2000      3      5            210    1165  14950\n",
            "4         30  38500  90  2000      3      5            210    1170  13750\n"
          ]
        }
      ],
      "source": [
        "df = pd.read_csv('/content/ToyotaCorolla.csv')\n",
        "df = df[[ \"Age_08_04\", \"KM\", \"HP\", \"cc\", \"Doors\", \"Gears\", \"Quarterly_Tax\", \"Weight\",\"Price\"]]\n",
        "df= pd.DataFrame(df)\n",
        "X = df[[ \"Age_08_04\", \"KM\", \"HP\", \"cc\", \"Doors\", \"Gears\", \"Quarterly_Tax\", \"Weight\"]].values\n",
        "y = df['Price'].values\n",
        "print(df.head())"
      ]
    },
    {
      "cell_type": "markdown",
      "metadata": {
        "id": "ybBFB2Yr4R51"
      },
      "source": [
        "##Drop Null values\n",
        "\n",
        "Here we simply check for missing values and drop missing values"
      ]
    },
    {
      "cell_type": "code",
      "execution_count": 7,
      "metadata": {
        "colab": {
          "base_uri": "https://localhost:8080/"
        },
        "id": "P3hiGkeG_kK0",
        "outputId": "dad8673f-cdf1-4b35-c731-96070f5b9fee"
      },
      "outputs": [
        {
          "output_type": "stream",
          "name": "stdout",
          "text": [
            "Age_08_04        0\n",
            "KM               0\n",
            "HP               0\n",
            "cc               0\n",
            "Doors            0\n",
            "Gears            0\n",
            "Quarterly_Tax    0\n",
            "Weight           0\n",
            "Price            0\n",
            "dtype: int64\n"
          ]
        }
      ],
      "source": [
        "print(df.isnull().sum())\n",
        "df = df.dropna()"
      ]
    },
    {
      "cell_type": "markdown",
      "metadata": {
        "id": "6hIEE4lB4wBi"
      },
      "source": [
        "##Splitting"
      ]
    },
    {
      "cell_type": "code",
      "execution_count": 8,
      "metadata": {
        "id": "mW4Ae3LR4yIy"
      },
      "outputs": [],
      "source": [
        "X_train,X_test,Y_train,Y_test = train_test_split(X,y,test_size=0.2,random_state=0)\n"
      ]
    },
    {
      "cell_type": "markdown",
      "metadata": {
        "id": "ERKfY8q94-W5"
      },
      "source": [
        "##Normalize"
      ]
    },
    {
      "cell_type": "code",
      "execution_count": 9,
      "metadata": {
        "id": "rEIHbYF15AON"
      },
      "outputs": [],
      "source": [
        "scaler = MinMaxScaler()\n",
        "X_train_n = scaler.fit_transform(X_train)\n",
        "X_test_n = scaler.transform(X_test)"
      ]
    },
    {
      "cell_type": "markdown",
      "metadata": {
        "id": "SJW3GUJ2-Gme"
      },
      "source": [
        "##Train the regression model"
      ]
    },
    {
      "cell_type": "code",
      "execution_count": 10,
      "metadata": {
        "colab": {
          "base_uri": "https://localhost:8080/",
          "height": 74
        },
        "id": "v2_a7mw8-Z3b",
        "outputId": "8f6497b0-680a-4b0d-91e9-3183fcbd1896"
      },
      "outputs": [
        {
          "output_type": "execute_result",
          "data": {
            "text/plain": [
              "LinearRegression()"
            ],
            "text/html": [
              "<style>#sk-container-id-1 {color: black;}#sk-container-id-1 pre{padding: 0;}#sk-container-id-1 div.sk-toggleable {background-color: white;}#sk-container-id-1 label.sk-toggleable__label {cursor: pointer;display: block;width: 100%;margin-bottom: 0;padding: 0.3em;box-sizing: border-box;text-align: center;}#sk-container-id-1 label.sk-toggleable__label-arrow:before {content: \"▸\";float: left;margin-right: 0.25em;color: #696969;}#sk-container-id-1 label.sk-toggleable__label-arrow:hover:before {color: black;}#sk-container-id-1 div.sk-estimator:hover label.sk-toggleable__label-arrow:before {color: black;}#sk-container-id-1 div.sk-toggleable__content {max-height: 0;max-width: 0;overflow: hidden;text-align: left;background-color: #f0f8ff;}#sk-container-id-1 div.sk-toggleable__content pre {margin: 0.2em;color: black;border-radius: 0.25em;background-color: #f0f8ff;}#sk-container-id-1 input.sk-toggleable__control:checked~div.sk-toggleable__content {max-height: 200px;max-width: 100%;overflow: auto;}#sk-container-id-1 input.sk-toggleable__control:checked~label.sk-toggleable__label-arrow:before {content: \"▾\";}#sk-container-id-1 div.sk-estimator input.sk-toggleable__control:checked~label.sk-toggleable__label {background-color: #d4ebff;}#sk-container-id-1 div.sk-label input.sk-toggleable__control:checked~label.sk-toggleable__label {background-color: #d4ebff;}#sk-container-id-1 input.sk-hidden--visually {border: 0;clip: rect(1px 1px 1px 1px);clip: rect(1px, 1px, 1px, 1px);height: 1px;margin: -1px;overflow: hidden;padding: 0;position: absolute;width: 1px;}#sk-container-id-1 div.sk-estimator {font-family: monospace;background-color: #f0f8ff;border: 1px dotted black;border-radius: 0.25em;box-sizing: border-box;margin-bottom: 0.5em;}#sk-container-id-1 div.sk-estimator:hover {background-color: #d4ebff;}#sk-container-id-1 div.sk-parallel-item::after {content: \"\";width: 100%;border-bottom: 1px solid gray;flex-grow: 1;}#sk-container-id-1 div.sk-label:hover label.sk-toggleable__label {background-color: #d4ebff;}#sk-container-id-1 div.sk-serial::before {content: \"\";position: absolute;border-left: 1px solid gray;box-sizing: border-box;top: 0;bottom: 0;left: 50%;z-index: 0;}#sk-container-id-1 div.sk-serial {display: flex;flex-direction: column;align-items: center;background-color: white;padding-right: 0.2em;padding-left: 0.2em;position: relative;}#sk-container-id-1 div.sk-item {position: relative;z-index: 1;}#sk-container-id-1 div.sk-parallel {display: flex;align-items: stretch;justify-content: center;background-color: white;position: relative;}#sk-container-id-1 div.sk-item::before, #sk-container-id-1 div.sk-parallel-item::before {content: \"\";position: absolute;border-left: 1px solid gray;box-sizing: border-box;top: 0;bottom: 0;left: 50%;z-index: -1;}#sk-container-id-1 div.sk-parallel-item {display: flex;flex-direction: column;z-index: 1;position: relative;background-color: white;}#sk-container-id-1 div.sk-parallel-item:first-child::after {align-self: flex-end;width: 50%;}#sk-container-id-1 div.sk-parallel-item:last-child::after {align-self: flex-start;width: 50%;}#sk-container-id-1 div.sk-parallel-item:only-child::after {width: 0;}#sk-container-id-1 div.sk-dashed-wrapped {border: 1px dashed gray;margin: 0 0.4em 0.5em 0.4em;box-sizing: border-box;padding-bottom: 0.4em;background-color: white;}#sk-container-id-1 div.sk-label label {font-family: monospace;font-weight: bold;display: inline-block;line-height: 1.2em;}#sk-container-id-1 div.sk-label-container {text-align: center;}#sk-container-id-1 div.sk-container {/* jupyter's `normalize.less` sets `[hidden] { display: none; }` but bootstrap.min.css set `[hidden] { display: none !important; }` so we also need the `!important` here to be able to override the default hidden behavior on the sphinx rendered scikit-learn.org. See: https://github.com/scikit-learn/scikit-learn/issues/21755 */display: inline-block !important;position: relative;}#sk-container-id-1 div.sk-text-repr-fallback {display: none;}</style><div id=\"sk-container-id-1\" class=\"sk-top-container\"><div class=\"sk-text-repr-fallback\"><pre>LinearRegression()</pre><b>In a Jupyter environment, please rerun this cell to show the HTML representation or trust the notebook. <br />On GitHub, the HTML representation is unable to render, please try loading this page with nbviewer.org.</b></div><div class=\"sk-container\" hidden><div class=\"sk-item\"><div class=\"sk-estimator sk-toggleable\"><input class=\"sk-toggleable__control sk-hidden--visually\" id=\"sk-estimator-id-1\" type=\"checkbox\" checked><label for=\"sk-estimator-id-1\" class=\"sk-toggleable__label sk-toggleable__label-arrow\">LinearRegression</label><div class=\"sk-toggleable__content\"><pre>LinearRegression()</pre></div></div></div></div></div>"
            ]
          },
          "metadata": {},
          "execution_count": 10
        }
      ],
      "source": [
        "from sklearn.linear_model import LinearRegression\n",
        "regressor = LinearRegression()\n",
        "regressor.fit(X_train, Y_train)\n"
      ]
    },
    {
      "cell_type": "markdown",
      "metadata": {
        "id": "tNGaHZG1-dFe"
      },
      "source": [
        "##Predicting the Test set results"
      ]
    },
    {
      "cell_type": "code",
      "execution_count": 11,
      "metadata": {
        "colab": {
          "base_uri": "https://localhost:8080/"
        },
        "id": "JDn8S_JB-gTa",
        "outputId": "2989f1e9-5cb0-4e8f-ab6e-b44e2497dcf4"
      },
      "outputs": [
        {
          "output_type": "stream",
          "name": "stdout",
          "text": [
            "[[  8289.01   7950.  ]\n",
            " [ 10517.    10950.  ]\n",
            " [ 13010.62  14950.  ]\n",
            " [  7666.6    7500.  ]\n",
            " [ 10486.85   9900.  ]\n",
            " [  9543.84   8900.  ]\n",
            " [  6140.54   6950.  ]\n",
            " [ 16218.43  15750.  ]\n",
            " [ 11289.5   11950.  ]\n",
            " [ 10499.56   9930.  ]\n",
            " [  6892.08   8500.  ]\n",
            " [ 11225.26  10450.  ]\n",
            " [ 11819.05  11895.  ]\n",
            " [  9744.71   9950.  ]\n",
            " [  7432.58   6450.  ]\n",
            " [ 16111.69  15500.  ]\n",
            " [ 11172.06  11950.  ]\n",
            " [  7751.06   6900.  ]\n",
            " [ 12849.54  10950.  ]\n",
            " [  8517.49   9750.  ]\n",
            " [  6731.21   7350.  ]\n",
            " [  6053.79   8950.  ]\n",
            " [ 11666.32  13750.  ]\n",
            " [ 13024.83  14950.  ]\n",
            " [ 18991.79  19950.  ]\n",
            " [  7748.68   9450.  ]\n",
            " [ 14050.56  11500.  ]\n",
            " [  5742.64   8500.  ]\n",
            " [  9247.59   9450.  ]\n",
            " [  7885.92   8800.  ]\n",
            " [ 10609.46  11450.  ]\n",
            " [  7647.1   10500.  ]\n",
            " [ 16093.34  13750.  ]\n",
            " [  7226.74   8250.  ]\n",
            " [ 11013.83  10950.  ]\n",
            " [ 12532.57  11950.  ]\n",
            " [  9733.86   8950.  ]\n",
            " [ 12230.39  12900.  ]\n",
            " [  9782.11   9500.  ]\n",
            " [  9006.26   9950.  ]\n",
            " [  8847.43   8950.  ]\n",
            " [ 10623.31   9500.  ]\n",
            " [  9952.96   9950.  ]\n",
            " [ 17009.32  15500.  ]\n",
            " [ 10970.31  10950.  ]\n",
            " [  7067.04   7500.  ]\n",
            " [  9631.08   9450.  ]\n",
            " [  7338.86   9500.  ]\n",
            " [  8442.51  10845.  ]\n",
            " [  8772.6    8500.  ]\n",
            " [ 19094.18  19750.  ]\n",
            " [  8457.36   8950.  ]\n",
            " [  7194.09   7250.  ]\n",
            " [  6534.06   6750.  ]\n",
            " [ 11461.18  10950.  ]\n",
            " [ 18149.57  19950.  ]\n",
            " [ 13550.95  11000.  ]\n",
            " [ 10115.11   8950.  ]\n",
            " [ 18934.58  17795.  ]\n",
            " [ 11003.2   10500.  ]\n",
            " [  6518.58   5740.  ]\n",
            " [  7846.06   7750.  ]\n",
            " [ 11078.83  10950.  ]\n",
            " [ 12211.31  10500.  ]\n",
            " [ 10417.14  12500.  ]\n",
            " [ 13971.77  12900.  ]\n",
            " [  8313.7    8450.  ]\n",
            " [  6862.94   7950.  ]\n",
            " [ 17479.78  19450.  ]\n",
            " [ 10703.29  11450.  ]\n",
            " [  9832.46   9500.  ]\n",
            " [  8634.14   4450.  ]\n",
            " [ 13337.01  11690.  ]\n",
            " [  6214.84   7900.  ]\n",
            " [ 14768.67  14750.  ]\n",
            " [ 13188.12  14990.  ]\n",
            " [ 10774.7    9950.  ]\n",
            " [  6847.37   7450.  ]\n",
            " [  8153.15   6950.  ]\n",
            " [  8132.81   8250.  ]\n",
            " [  6816.54   6750.  ]\n",
            " [  8692.14   6900.  ]\n",
            " [  6076.71   5950.  ]\n",
            " [ 11762.21  12750.  ]\n",
            " [ 11964.89  11950.  ]\n",
            " [ 10576.05  10750.  ]\n",
            " [ 11467.74   8950.  ]\n",
            " [ 12404.43  11950.  ]\n",
            " [  7956.82   8250.  ]\n",
            " [  9531.58   7450.  ]\n",
            " [  6405.57   6950.  ]\n",
            " [ 10333.84  10750.  ]\n",
            " [ 16569.7   17450.  ]\n",
            " [ 12803.8    9940.  ]\n",
            " [  8115.94   7950.  ]\n",
            " [ 12175.85  12250.  ]\n",
            " [ 15437.04  12950.  ]\n",
            " [ 10013.11  10950.  ]\n",
            " [ 13445.78  12450.  ]\n",
            " [  7564.71   6900.  ]\n",
            " [  8346.47   8500.  ]\n",
            " [ 11804.03  10750.  ]\n",
            " [ 11859.07   9700.  ]\n",
            " [  8289.79   9250.  ]\n",
            " [  8319.42   7900.  ]\n",
            " [ 18264.01  19000.  ]\n",
            " [ 18214.6   18450.  ]\n",
            " [  8233.36   8500.  ]\n",
            " [ 14277.96  13250.  ]\n",
            " [  8660.26  10400.  ]\n",
            " [ 13576.45  12500.  ]\n",
            " [  9201.93   9200.  ]\n",
            " [ 10430.91   8500.  ]\n",
            " [  9488.9    8250.  ]\n",
            " [ 13183.4   13750.  ]\n",
            " [  9175.31   8950.  ]\n",
            " [  9284.33   7950.  ]\n",
            " [ 12593.5   10950.  ]\n",
            " [  9378.29   9900.  ]\n",
            " [  8179.58   7750.  ]\n",
            " [ 17068.62  20500.  ]\n",
            " [  7418.41   9950.  ]\n",
            " [ 14001.49  13995.  ]\n",
            " [ 10127.28  10250.  ]\n",
            " [  8014.42   7950.  ]\n",
            " [ 20384.68  23950.  ]\n",
            " [  7049.82   7950.  ]\n",
            " [ 10145.55  11500.  ]\n",
            " [  9309.28   9250.  ]\n",
            " [ 10385.09   9950.  ]\n",
            " [ 17109.64  17950.  ]\n",
            " [  9033.99   8950.  ]\n",
            " [ 11305.69   9980.  ]\n",
            " [  9915.16  10500.  ]\n",
            " [ 19432.53  21125.  ]\n",
            " [ 11110.23  11950.  ]\n",
            " [ 12475.18  11950.  ]\n",
            " [ 12966.64  12450.  ]\n",
            " [ 10292.86   7995.  ]\n",
            " [ 13531.46  13500.  ]\n",
            " [ 15695.81  15750.  ]\n",
            " [ 10293.73   8850.  ]\n",
            " [  8752.27   8750.  ]\n",
            " [  7823.91   7750.  ]\n",
            " [  9178.61   9895.  ]\n",
            " [ 17368.9   20750.  ]\n",
            " [ 10468.4   11950.  ]\n",
            " [ 12705.29  13950.  ]\n",
            " [ 11079.18  10950.  ]\n",
            " [ 12364.96  11950.  ]\n",
            " [  7831.81   7950.  ]\n",
            " [ 13376.87  12950.  ]\n",
            " [ 10097.53   9950.  ]\n",
            " [  6860.03   8950.  ]\n",
            " [ 11133.82  11450.  ]\n",
            " [ 14846.23  16950.  ]\n",
            " [ 10171.25   9900.  ]\n",
            " [  9743.4    8950.  ]\n",
            " [  7650.2    8450.  ]\n",
            " [  8546.08   8750.  ]\n",
            " [  7989.08   7400.  ]\n",
            " [  9160.86   8500.  ]\n",
            " [  8425.63   7800.  ]\n",
            " [ 14989.83  16750.  ]\n",
            " [ 11163.96   9950.  ]\n",
            " [  8819.65   6450.  ]\n",
            " [ 19690.82  21950.  ]\n",
            " [  9174.25   8750.  ]\n",
            " [  9061.07   8200.  ]\n",
            " [ 15632.94  15800.  ]\n",
            " [  9944.05  10450.  ]\n",
            " [ 10661.17  10900.  ]\n",
            " [  9861.13   9950.  ]\n",
            " [  8207.52   7500.  ]\n",
            " [  8130.45   8250.  ]\n",
            " [ 10723.76   9950.  ]\n",
            " [  8743.18   8250.  ]\n",
            " [ 12917.87  11900.  ]\n",
            " [ 16840.54  16450.  ]\n",
            " [ 10708.39   9995.  ]\n",
            " [ 11430.81  10950.  ]\n",
            " [  9254.79   8950.  ]\n",
            " [  7753.47   9250.  ]\n",
            " [ 15754.41  14750.  ]\n",
            " [ 12687.18  11450.  ]\n",
            " [  9200.93   8750.  ]\n",
            " [  9468.78   8950.  ]\n",
            " [ 16659.    13950.  ]\n",
            " [ 16205.55  13750.  ]\n",
            " [  6844.27   5950.  ]\n",
            " [ 10006.52   9950.  ]\n",
            " [  8260.25   8500.  ]\n",
            " [ 10048.83   4750.  ]\n",
            " [ 12448.63  10950.  ]\n",
            " [ 10353.18  10950.  ]\n",
            " [  7745.43   8950.  ]\n",
            " [ 17731.9   18950.  ]\n",
            " [  7571.51   8950.  ]\n",
            " [  7633.22   7950.  ]\n",
            " [  5252.78   6500.  ]\n",
            " [  9613.42   9900.  ]\n",
            " [ 12283.04  10750.  ]\n",
            " [ 13369.38  13950.  ]\n",
            " [ 15491.96  15250.  ]\n",
            " [ 11151.21  11500.  ]\n",
            " [  9892.27   8750.  ]\n",
            " [ 12518.91  10450.  ]\n",
            " [ 10649.25  11950.  ]\n",
            " [  8733.37   8950.  ]\n",
            " [  6411.28   6950.  ]\n",
            " [ 13575.42  10950.  ]\n",
            " [  8442.92   6950.  ]\n",
            " [  8555.06   9250.  ]\n",
            " [  7070.1    7950.  ]\n",
            " [  7068.45   7250.  ]\n",
            " [ 16132.68  17950.  ]\n",
            " [ 19836.45  22500.  ]\n",
            " [ 10842.58  10500.  ]\n",
            " [  8168.27   7600.  ]\n",
            " [ 12176.97  10950.  ]\n",
            " [  7588.32   6900.  ]\n",
            " [  7705.45   6500.  ]\n",
            " [ 10714.84   9950.  ]\n",
            " [  8417.52   9800.  ]\n",
            " [ 13541.06  12950.  ]\n",
            " [ 10585.87   9950.  ]\n",
            " [  9986.04   9450.  ]\n",
            " [ 17396.66  16950.  ]\n",
            " [ 10850.7    9950.  ]\n",
            " [ 10814.32  10950.  ]\n",
            " [  8477.72   7750.  ]\n",
            " [ 10451.46  10950.  ]\n",
            " [ 10447.7    8750.  ]\n",
            " [ 14334.16  12950.  ]\n",
            " [  6974.33   8050.  ]\n",
            " [  9409.72   8950.  ]\n",
            " [  7487.45   7450.  ]\n",
            " [  7021.49   7950.  ]\n",
            " [  8507.65   8250.  ]\n",
            " [ 13531.96  14950.  ]\n",
            " [ 11076.26   8695.  ]\n",
            " [  9266.91   9950.  ]\n",
            " [  6910.84   5950.  ]\n",
            " [  9042.84   7950.  ]\n",
            " [-10990.45  18950.  ]\n",
            " [  7720.62   7200.  ]\n",
            " [ 11759.13  12950.  ]\n",
            " [ 11231.78   6950.  ]\n",
            " [ 10387.84  11950.  ]\n",
            " [  9172.56   8950.  ]\n",
            " [  8417.21   8750.  ]\n",
            " [  8759.88   7750.  ]\n",
            " [ 12223.07  12950.  ]\n",
            " [ 10337.39   9450.  ]\n",
            " [ 15153.6    7500.  ]\n",
            " [  8893.6   10000.  ]\n",
            " [  9581.27   9900.  ]\n",
            " [ 16163.83  16500.  ]\n",
            " [  8414.9    8950.  ]\n",
            " [  9422.99  10750.  ]\n",
            " [ 19885.58  19950.  ]\n",
            " [ 10173.16   9950.  ]\n",
            " [ 15347.8   14750.  ]\n",
            " [  8981.96   6900.  ]\n",
            " [ 15963.4   13950.  ]\n",
            " [ 10066.04   8950.  ]\n",
            " [ 16511.01  16950.  ]\n",
            " [  8435.32   9800.  ]\n",
            " [  7625.81   7950.  ]\n",
            " [ 10397.93   9450.  ]\n",
            " [ 12239.83  12900.  ]\n",
            " [  9988.64   8950.  ]\n",
            " [ 11345.84  10750.  ]\n",
            " [ 11939.61  13950.  ]\n",
            " [  8851.04   6950.  ]\n",
            " [ 17459.03  19500.  ]\n",
            " [ 20098.14  21500.  ]\n",
            " [  6543.99   7450.  ]\n",
            " [  8532.76   9950.  ]\n",
            " [ 13201.81  11500.  ]\n",
            " [  7416.95   6900.  ]\n",
            " [  8960.32   8450.  ]\n",
            " [  7226.31   5250.  ]\n",
            " [ 11406.05  10450.  ]\n",
            " [ 10421.96   9400.  ]\n",
            " [ 10104.78   9950.  ]\n",
            " [ 12776.96  11750.  ]\n",
            " [  7322.2    7950.  ]]\n"
          ]
        }
      ],
      "source": [
        "y_pred = regressor.predict(X_test)\n",
        "np.set_printoptions(precision=2)\n",
        "print(np.concatenate((y_pred.reshape(len(y_pred),1), Y_test.reshape(len(Y_test),1)),1))\n"
      ]
    },
    {
      "cell_type": "markdown",
      "metadata": {
        "id": "Vo3gY7XZ-mBe"
      },
      "source": [
        "##Calculate R-squared value and Accuracy"
      ]
    },
    {
      "cell_type": "code",
      "execution_count": 12,
      "metadata": {
        "colab": {
          "base_uri": "https://localhost:8080/"
        },
        "id": "nLDLcpN--qP5",
        "outputId": "aec64863-9785-4aff-f0ff-b20b4a0296a9"
      },
      "outputs": [
        {
          "output_type": "stream",
          "name": "stdout",
          "text": [
            "R-squared value: 0.5995582859225217\n",
            "Accuracy: 59.95582859225217\n"
          ]
        }
      ],
      "source": [
        "r2 = r2_score(Y_test, y_pred)\n",
        "print(\"R-squared value:\", r2)\n",
        "accuracy = r2 * 100\n",
        "print(\"Accuracy:\", accuracy)"
      ]
    }
  ],
  "metadata": {
    "colab": {
      "provenance": [],
      "authorship_tag": "ABX9TyO8bXMXIbsKGwVmeSxekYv4",
      "include_colab_link": true
    },
    "kernelspec": {
      "display_name": "Python 3",
      "name": "python3"
    },
    "language_info": {
      "name": "python"
    }
  },
  "nbformat": 4,
  "nbformat_minor": 0
}