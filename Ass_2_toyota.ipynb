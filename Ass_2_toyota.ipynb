{
  "cells": [
    {
      "cell_type": "markdown",
      "metadata": {
        "id": "view-in-github",
        "colab_type": "text"
      },
      "source": [
        "<a href=\"https://colab.research.google.com/github/Tejaswidarsi/ML-2-Multiple_regression/blob/main/Ass_2_toyota.ipynb\" target=\"_parent\"><img src=\"https://colab.research.google.com/assets/colab-badge.svg\" alt=\"Open In Colab\"/></a>"
      ]
    },
    {
      "cell_type": "markdown",
      "metadata": {
        "id": "8h9ij9zE2W4X"
      },
      "source": [
        "##Install kaggle"
      ]
    },
    {
      "cell_type": "code",
      "execution_count": null,
      "metadata": {
        "colab": {
          "base_uri": "https://localhost:8080/"
        },
        "id": "rMRiyKal18Yi",
        "outputId": "c3e7319f-3ad2-4281-9519-d8dda99976bb"
      },
      "outputs": [
        {
          "output_type": "stream",
          "name": "stdout",
          "text": [
            "Requirement already satisfied: kaggle in /usr/local/lib/python3.10/dist-packages (1.6.17)\n",
            "Requirement already satisfied: six>=1.10 in /usr/local/lib/python3.10/dist-packages (from kaggle) (1.16.0)\n",
            "Requirement already satisfied: certifi>=2023.7.22 in /usr/local/lib/python3.10/dist-packages (from kaggle) (2024.8.30)\n",
            "Requirement already satisfied: python-dateutil in /usr/local/lib/python3.10/dist-packages (from kaggle) (2.8.2)\n",
            "Requirement already satisfied: requests in /usr/local/lib/python3.10/dist-packages (from kaggle) (2.32.3)\n",
            "Requirement already satisfied: tqdm in /usr/local/lib/python3.10/dist-packages (from kaggle) (4.66.5)\n",
            "Requirement already satisfied: python-slugify in /usr/local/lib/python3.10/dist-packages (from kaggle) (8.0.4)\n",
            "Requirement already satisfied: urllib3 in /usr/local/lib/python3.10/dist-packages (from kaggle) (2.0.7)\n",
            "Requirement already satisfied: bleach in /usr/local/lib/python3.10/dist-packages (from kaggle) (6.1.0)\n",
            "Requirement already satisfied: webencodings in /usr/local/lib/python3.10/dist-packages (from bleach->kaggle) (0.5.1)\n",
            "Requirement already satisfied: text-unidecode>=1.3 in /usr/local/lib/python3.10/dist-packages (from python-slugify->kaggle) (1.3)\n",
            "Requirement already satisfied: charset-normalizer<4,>=2 in /usr/local/lib/python3.10/dist-packages (from requests->kaggle) (3.3.2)\n",
            "Requirement already satisfied: idna<4,>=2.5 in /usr/local/lib/python3.10/dist-packages (from requests->kaggle) (3.8)\n"
          ]
        }
      ],
      "source": [
        "pip install kaggle"
      ]
    },
    {
      "cell_type": "markdown",
      "metadata": {
        "id": "RjX8ZtSI250A"
      },
      "source": [
        "##Download API link of Dataset"
      ]
    },
    {
      "cell_type": "code",
      "execution_count": null,
      "metadata": {
        "colab": {
          "base_uri": "https://localhost:8080/"
        },
        "id": "ydJjixbL3EPt",
        "outputId": "0b27db9e-3b15-4c7d-af8f-24e10ca8ddd7"
      },
      "outputs": [
        {
          "output_type": "stream",
          "name": "stdout",
          "text": [
            "Dataset URL: https://www.kaggle.com/datasets/klkwak/toyotaCorollacsv\n",
            "License(s): DbCL-1.0\n",
            "Downloading toyotaCorollacsv.zip to /content\n",
            "  0% 0.00/28.8k [00:00<?, ?B/s]\n",
            "100% 28.8k/28.8k [00:00<00:00, 43.5MB/s]\n"
          ]
        }
      ],
      "source": [
        "!kaggle datasets download -d klkwak/toyotaCorollacsv"
      ]
    },
    {
      "cell_type": "markdown",
      "metadata": {
        "id": "kk_M153K3VC1"
      },
      "source": [
        "##Import the zip file"
      ]
    },
    {
      "cell_type": "code",
      "execution_count": null,
      "metadata": {
        "colab": {
          "base_uri": "https://localhost:8080/"
        },
        "id": "ICY2SPCy3YSc",
        "outputId": "c03df62c-6c16-430b-df76-dd585e10e847"
      },
      "outputs": [
        {
          "output_type": "stream",
          "name": "stdout",
          "text": [
            "done\n"
          ]
        }
      ],
      "source": [
        "from zipfile import ZipFile\n",
        "dataset = \"/content/toyotaCorollacsv.zip\"\n",
        "\n",
        "with ZipFile(dataset, 'r') as zip:\n",
        "  zip.extractall()\n",
        "  print('done')"
      ]
    },
    {
      "cell_type": "markdown",
      "metadata": {
        "id": "1BH9cq2k3jYP"
      },
      "source": [
        "##Import libraries"
      ]
    },
    {
      "cell_type": "code",
      "execution_count": null,
      "metadata": {
        "id": "3uMtveIn3vt-"
      },
      "outputs": [],
      "source": [
        "import pandas as pd\n",
        "import numpy as np\n",
        "from sklearn.model_selection import train_test_split\n",
        "from sklearn.linear_model import LinearRegression\n",
        "from sklearn.metrics import r2_score, mean_squared_error\n",
        "from sklearn.preprocessing import StandardScaler\n",
        "\n"
      ]
    },
    {
      "cell_type": "markdown",
      "metadata": {
        "id": "RLpK0X3a3x5I"
      },
      "source": [
        "##Initialization\n",
        " The code reads a CSV dataset and assigns it to the variable List. Then, it converts List into a DataFrame using pd.DataFrame(). In this DataFrame, x represents the set of independent variables (features), and y represents the dependent variable, which is the target variable ( price) that we want to predict."
      ]
    },
    {
      "cell_type": "code",
      "execution_count": null,
      "metadata": {
        "id": "qPTjZJaV30hn",
        "colab": {
          "base_uri": "https://localhost:8080/"
        },
        "outputId": "502579fb-ea11-49ee-9890-44d4a551d3ac"
      },
      "outputs": [
        {
          "output_type": "stream",
          "name": "stdout",
          "text": [
            "Price            0\n",
            "Age_08_04        0\n",
            "KM               0\n",
            "HP               0\n",
            "cc               0\n",
            "Doors            0\n",
            "Gears            0\n",
            "Quarterly_Tax    0\n",
            "Weight           0\n",
            "dtype: int64\n"
          ]
        }
      ],
      "source": [
        "df = df[[\"Price\", \"Age_08_04\", \"KM\", \"HP\", \"cc\", \"Doors\", \"Gears\", \"Quarterly_Tax\", \"Weight\"]]\n",
        "\n",
        "# Check for missing values and handle them (if any)\n",
        "print(df.isnull().sum())"
      ]
    },
    {
      "cell_type": "markdown",
      "metadata": {
        "id": "ybBFB2Yr4R51"
      },
      "source": [
        "##Drop Null values\n",
        "\n",
        "Here we simply check for missing values and drop missing values"
      ]
    },
    {
      "cell_type": "code",
      "execution_count": null,
      "metadata": {
        "id": "P3hiGkeG_kK0"
      },
      "outputs": [],
      "source": [
        "df = df.dropna()\n",
        "\n",
        "# Separate features (X) and target (y)\n",
        "X = df.drop('Price', axis=1)\n",
        "y = df['Price']\n"
      ]
    },
    {
      "cell_type": "markdown",
      "metadata": {
        "id": "6hIEE4lB4wBi"
      },
      "source": [
        "##Splitting"
      ]
    },
    {
      "cell_type": "code",
      "execution_count": null,
      "metadata": {
        "id": "mW4Ae3LR4yIy"
      },
      "outputs": [],
      "source": [
        "X_train,X_test,Y_train,Y_test = train_test_split(X,y,test_size=0.2,random_state=0)\n"
      ]
    },
    {
      "cell_type": "code",
      "source": [
        "scaler = StandardScaler()\n",
        "X_train_scaled = scaler.fit_transform(X_train)\n",
        "X_test_scaled = scaler.transform(X_test)\n"
      ],
      "metadata": {
        "id": "xpjWAmieQm-p"
      },
      "execution_count": null,
      "outputs": []
    },
    {
      "cell_type": "code",
      "source": [
        "print(X_train.std())"
      ],
      "metadata": {
        "colab": {
          "base_uri": "https://localhost:8080/"
        },
        "id": "OWCkGMHBRVT1",
        "outputId": "7f354b2b-bd82-4aeb-e3d8-07bc30f93303"
      },
      "execution_count": null,
      "outputs": [
        {
          "output_type": "stream",
          "name": "stdout",
          "text": [
            "Age_08_04           18.650224\n",
            "KM               37611.515387\n",
            "HP                  14.567616\n",
            "cc                 188.213836\n",
            "Doors                0.952610\n",
            "Gears                0.196222\n",
            "Quarterly_Tax       41.280838\n",
            "Weight              53.836138\n",
            "dtype: float64\n"
          ]
        }
      ]
    },
    {
      "cell_type": "markdown",
      "metadata": {
        "id": "SJW3GUJ2-Gme"
      },
      "source": [
        "##Train the regression model"
      ]
    },
    {
      "cell_type": "code",
      "execution_count": null,
      "metadata": {
        "id": "v2_a7mw8-Z3b"
      },
      "outputs": [],
      "source": [
        "model = LinearRegression()\n",
        "model.fit(X_train_scaled, Y_train)\n",
        "\n"
      ]
    },
    {
      "cell_type": "markdown",
      "metadata": {
        "id": "tNGaHZG1-dFe"
      },
      "source": [
        "##Predicting the Test set results"
      ]
    },
    {
      "cell_type": "code",
      "execution_count": null,
      "metadata": {
        "id": "JDn8S_JB-gTa"
      },
      "outputs": [],
      "source": [
        "\n",
        "y_pred = model.predict(X_test_scaled)"
      ]
    },
    {
      "cell_type": "markdown",
      "metadata": {
        "id": "Vo3gY7XZ-mBe"
      },
      "source": [
        "##Calculate R-squared value and Accuracy"
      ]
    },
    {
      "cell_type": "code",
      "execution_count": null,
      "metadata": {
        "colab": {
          "base_uri": "https://localhost:8080/"
        },
        "id": "nLDLcpN--qP5",
        "outputId": "f137f65f-9667-4f4c-f7ce-2e7a03891eec"
      },
      "outputs": [
        {
          "output_type": "stream",
          "name": "stdout",
          "text": [
            "R-squared value: 0.5995582859225148\n",
            "Mean Squared Error: 4982411.651809191\n",
            "Accuracy: 59.95582859225148\n"
          ]
        }
      ],
      "source": [
        "r2 = r2_score(Y_test, y_pred)\n",
        "print(\"R-squared value:\", r2)\n",
        "mse = mean_squared_error(Y_test, y_pred)\n",
        "print(\"Mean Squared Error:\", mse)\n",
        "accuracy = r2 * 100\n",
        "print(\"Accuracy:\", accuracy)"
      ]
    }
  ],
  "metadata": {
    "colab": {
      "provenance": [],
      "authorship_tag": "ABX9TyOtVJSGcIRH59S1O+WX7+Au",
      "include_colab_link": true
    },
    "kernelspec": {
      "display_name": "Python 3",
      "name": "python3"
    },
    "language_info": {
      "name": "python"
    }
  },
  "nbformat": 4,
  "nbformat_minor": 0
}